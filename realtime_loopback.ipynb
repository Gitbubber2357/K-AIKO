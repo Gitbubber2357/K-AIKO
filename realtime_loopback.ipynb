{
 "cells": [
  {
   "cell_type": "code",
   "execution_count": 1,
   "metadata": {},
   "outputs": [],
   "source": [
    "import time\n",
    "import numpy as np\n",
    "import scipy\n",
    "import matplotlib\n",
    "import matplotlib.pyplot as plt\n",
    "import pyaudio\n",
    "import librosa\n",
    "import librosa.display\n",
    "import realtime_analysis as ra"
   ]
  },
  {
   "cell_type": "code",
   "execution_count": 2,
   "metadata": {},
   "outputs": [
    {
     "name": "stdout",
     "output_type": "stream",
     "text": [
      "sample resolution: 2.2675736961451248e-05\n",
      "frame resolution: 0.011609977324263039\n",
      "buffer length: 0.023219954648526078\n"
     ]
    }
   ],
   "source": [
    "matplotlib.rcParams[\"figure.figsize\"] = (14, 4)\n",
    "\n",
    "CHANNELS = 1\n",
    "RATE = 44100\n",
    "WIN_LENGTH = 1024\n",
    "HOP_LENGTH = 512\n",
    "SAMPLES_PER_BUFFER = 1024\n",
    "print(\"sample resolution:\", 1/RATE)\n",
    "print(\"frame resolution:\", HOP_LENGTH/RATE)\n",
    "print(\"buffer length:\", SAMPLES_PER_BUFFER/RATE)"
   ]
  },
  {
   "cell_type": "markdown",
   "metadata": {},
   "source": [
    "# test"
   ]
  },
  {
   "cell_type": "code",
   "execution_count": 3,
   "metadata": {},
   "outputs": [],
   "source": [
    "# generate click sound for test\n",
    "click_duration = 8*4 + 1\n",
    "click_offset = 1\n",
    "click_bps = 1\n",
    "click_interval = int(RATE/click_bps)\n",
    "click_first = int(click_offset*RATE)\n",
    "total_length = int(click_duration*RATE)\n",
    "\n",
    "click_times = np.arange(click_offset, click_duration, 1/click_bps)\n",
    "click = librosa.clicks(click_times, sr=RATE, length=total_length)"
   ]
  },
  {
   "cell_type": "code",
   "execution_count": 4,
   "metadata": {},
   "outputs": [],
   "source": [
    "# output stream callback\n",
    "playback_index = 0\n",
    "def output_callback(in_data, frame_count, time_info, status):\n",
    "    global playback_index\n",
    "    if playback_index >= click.shape[0]:\n",
    "        return None, pyaudio.paComplete\n",
    "\n",
    "    out_data = click[playback_index:playback_index+frame_count].tobytes()\n",
    "    playback_index += frame_count\n",
    "    return out_data, pyaudio.paContinue"
   ]
  },
  {
   "cell_type": "code",
   "execution_count": 5,
   "metadata": {},
   "outputs": [],
   "source": [
    "# input stream callback\n",
    "dect = ra.pipe(ra.frame(WIN_LENGTH, HOP_LENGTH),\n",
    "               ra.power_freq(RATE, WIN_LENGTH),\n",
    "               ra.onset_strength(),\n",
    "               ra.onset_detect(RATE, HOP_LENGTH, delta=1))\n",
    "next(dect)\n",
    "lag = 0.1\n",
    "\n",
    "onset_times = []\n",
    "record_index = 0\n",
    "def input_callback(in_data, frame_count, time_info, status):\n",
    "    global record_index\n",
    "    audio_data = np.frombuffer(in_data, dtype=np.float32)\n",
    "    \n",
    "    for i in range(0, frame_count, HOP_LENGTH):\n",
    "        record_index += 1\n",
    "        if dect.send(audio_data[i:i+HOP_LENGTH]):\n",
    "            time = record_index*HOP_LENGTH/RATE - lag\n",
    "            onset_times.append(time)\n",
    "            print(time - round(time))\n",
    "    \n",
    "    return in_data, pyaudio.paContinue"
   ]
  },
  {
   "cell_type": "code",
   "execution_count": 6,
   "metadata": {},
   "outputs": [
    {
     "name": "stdout",
     "output_type": "stream",
     "text": [
      "0.016099773242630386\n",
      "0.12058956916099772\n",
      "0.04784580498866209\n",
      "0.023083900226757326\n",
      "0.021541950113379116\n",
      "0.020000000000000462\n",
      "0.0068480725623585315\n",
      "-0.029523809523809064\n",
      "0.0037641723356021117\n",
      "0.0022222222222225696\n",
      "-0.01092970521541936\n",
      "-0.012471655328797127\n",
      "-0.014013605442176669\n",
      "-0.03877551020408099\n",
      "-0.028707482993196365\n",
      "-0.007029478458049354\n",
      "0.01464852607709588\n",
      "-0.021723356009072603\n",
      "-0.02326530612245037\n",
      "-0.03641723356009052\n",
      "-0.003129251700681124\n",
      "-0.051111111111111995\n",
      "-0.029433106575964985\n",
      "0.015464852607706803\n",
      "0.06036281179138214\n",
      "0.0007709750566888829\n",
      "-0.0007709750566924356\n",
      "-0.01392290249433259\n",
      "-0.003854875283447967\n",
      "-0.01700680272108812\n",
      "-0.041768707482994216\n",
      "-0.031700680272109594\n",
      "-0.02163265306122497\n"
     ]
    }
   ],
   "source": [
    "# execute test\n",
    "p = pyaudio.PyAudio()\n",
    "\n",
    "input_stream = p.open(format=pyaudio.paFloat32,\n",
    "                      channels=CHANNELS,\n",
    "                      rate=RATE,\n",
    "                      input=True,\n",
    "                      output=False,\n",
    "                      frames_per_buffer=SAMPLES_PER_BUFFER,\n",
    "                      stream_callback=input_callback)\n",
    "input_stream.start_stream()\n",
    "\n",
    "output_stream = p.open(format=pyaudio.paFloat32,\n",
    "                       channels=CHANNELS,\n",
    "                       rate=RATE,\n",
    "                       input=False,\n",
    "                       output=True,\n",
    "                       frames_per_buffer=SAMPLES_PER_BUFFER,\n",
    "                       stream_callback=output_callback)\n",
    "output_stream.start_stream()\n",
    "\n",
    "while output_stream.is_active() and input_stream.is_active():\n",
    "    time.sleep(0.1)\n",
    "\n",
    "output_stream.stop_stream()\n",
    "input_stream.stop_stream()\n",
    "output_stream.close()\n",
    "input_stream.close()\n",
    "\n",
    "p.terminate()"
   ]
  },
  {
   "cell_type": "code",
   "execution_count": 8,
   "metadata": {},
   "outputs": [
    {
     "name": "stdout",
     "output_type": "stream",
     "text": [
      "error: -0.00712 ± 0.025109\n"
     ]
    }
   ],
   "source": [
    "onset_error = np.array(onset_times[2:]) - np.round(onset_times[2:])\n",
    "print(\"error: {:.5f} ± {:5f}\".format(np.mean(onset_error), np.std(onset_error)))"
   ]
  },
  {
   "cell_type": "code",
   "execution_count": null,
   "metadata": {},
   "outputs": [],
   "source": []
  }
 ],
 "metadata": {
  "kernelspec": {
   "display_name": "Python 3",
   "language": "python",
   "name": "python3"
  },
  "language_info": {
   "codemirror_mode": {
    "name": "ipython",
    "version": 3
   },
   "file_extension": ".py",
   "mimetype": "text/x-python",
   "name": "python",
   "nbconvert_exporter": "python",
   "pygments_lexer": "ipython3",
   "version": "3.5.2"
  },
  "varInspector": {
   "cols": {
    "lenName": 16,
    "lenType": 16,
    "lenVar": 40
   },
   "kernels_config": {
    "python": {
     "delete_cmd_postfix": "",
     "delete_cmd_prefix": "del ",
     "library": "var_list.py",
     "varRefreshCmd": "print(var_dic_list())"
    },
    "r": {
     "delete_cmd_postfix": ") ",
     "delete_cmd_prefix": "rm(",
     "library": "var_list.r",
     "varRefreshCmd": "cat(var_dic_list()) "
    }
   },
   "types_to_exclude": [
    "module",
    "function",
    "builtin_function_or_method",
    "instance",
    "_Feature"
   ],
   "window_display": false
  }
 },
 "nbformat": 4,
 "nbformat_minor": 2
}
